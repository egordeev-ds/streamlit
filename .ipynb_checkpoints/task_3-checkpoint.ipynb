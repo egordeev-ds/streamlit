{
 "cells": [
  {
   "cell_type": "markdown",
   "metadata": {},
   "source": [
    "## Практическое занятие 3. Наивный байесовский классификатор\n",
    "<br><br>\n",
    "\n",
    "<br>"
   ]
  },
  {
   "cell_type": "code",
   "execution_count": 1,
   "metadata": {},
   "outputs": [],
   "source": [
    "import re, string\n",
    "\n",
    "import pymorphy2\n",
    "import nltk\n",
    "from nltk.tokenize import word_tokenize\n",
    "from nltk.corpus import stopwords\n",
    "\n",
    "import pandas as pd\n",
    "import numpy as np\n",
    "from sklearn.feature_extraction.text import TfidfVectorizer\n",
    "from sklearn.feature_extraction.text import CountVectorizer\n",
    "from sklearn.model_selection import train_test_split\n",
    "from sklearn.naive_bayes import MultinomialNB\n",
    "from sklearn.model_selection import GridSearchCV\n",
    "from sklearn.model_selection import StratifiedKFold\n",
    "from sklearn.model_selection import cross_validate\n",
    "from sklearn.metrics import accuracy_score, f1_score\n",
    "\n",
    "import warnings\n",
    "warnings.filterwarnings('ignore')"
   ]
  },
  {
   "cell_type": "markdown",
   "metadata": {},
   "source": [
    "##### Чтение и загрузка"
   ]
  },
  {
   "cell_type": "code",
   "execution_count": 14,
   "metadata": {},
   "outputs": [],
   "source": [
    "#read\n",
    "df_init = pd.read_csv(\"./movie.csv\").rename(columns = {'label':'target'})"
   ]
  },
  {
   "cell_type": "markdown",
   "metadata": {},
   "source": [
    "##### Предобработка"
   ]
  },
  {
   "cell_type": "code",
   "execution_count": 31,
   "metadata": {},
   "outputs": [],
   "source": [
    "#preprocess\n",
    "def preprocess(text):\n",
    "    \n",
    "    #нижний регистр\n",
    "    text = text.lower()\n",
    "    \n",
    "    #удаление спецсимволов\n",
    "    text = re.compile('[%s]' % re.escape(string.punctuation)).sub(' ', text)\n",
    "    text = re.sub(r'[^\\w\\s]',' ',str(text).lower().strip())\n",
    "    text = re.sub(r'\\s+',' ',text)\n",
    "    \n",
    "    #удаление цифр\n",
    "    text = re.sub(r\"\\d+\", \"\", text, flags=re.UNICODE)\n",
    "    \n",
    "    #удаление лишних пробелов\n",
    "    text_new = text.strip()\n",
    "    \n",
    "    return text_new\n",
    " \n",
    "def lematize(text):\n",
    "    \n",
    "    morph = pymorphy2.MorphAnalyzer(lang='uk')\n",
    "    \n",
    "    text_new = [morph.parse(word)[0].normal_form for word in word_tokenize(text)]\n",
    "    text_new = ' '.join(text_new)\n",
    "    \n",
    "    return text_new\n",
    "\n",
    "def stopword(text):\n",
    "    \n",
    "    stopwords_ = stopwords.words('english')\n",
    "    \n",
    "    text_new = [word for word in word_tokenize(text) if word not in stopwords_]\n",
    "    text_new = ' '.join(text_new)\n",
    "    \n",
    "    return text_new\n",
    "\n",
    "def process_data(data):\n",
    "        \n",
    "    #train\n",
    "    data['text'] = data['text'].apply(preprocess)\n",
    "#     data['text'] = data['text'].apply(lematize)\n",
    "    data['text'] = data['text'].apply(stopword)\n",
    "        \n",
    "    return data\n",
    "\n",
    "df = process_data(df_init)"
   ]
  },
  {
   "cell_type": "markdown",
   "metadata": {},
   "source": [
    "##### Разделение выборки на обучающую и тестовую, используя стратификацию."
   ]
  },
  {
   "cell_type": "code",
   "execution_count": 48,
   "metadata": {},
   "outputs": [],
   "source": [
    "#train_test_split\n",
    "x = df['text']\n",
    "y = df['target']\n",
    "\n",
    "x_train, x_test, y_train, y_test = train_test_split(x, y, test_size=0.25, random_state = 42, stratify = y)"
   ]
  },
  {
   "cell_type": "code",
   "execution_count": 49,
   "metadata": {},
   "outputs": [],
   "source": [
    "# # Count Vectorizer\n",
    "# vectorizer = CountVectorizer(max_features = 2000)\n",
    "\n",
    "# x_train = vectorizer.fit_transform(x_train)\n",
    "# x_test = vectorizer.transform(x_test)\n",
    "\n",
    "# x_train = pd.DataFrame.sparse.from_spmatrix(x_train, columns = vectorizer.get_feature_names())\n",
    "# x_test  = pd.DataFrame.sparse.from_spmatrix(x_test, columns = vectorizer.get_feature_names())"
   ]
  },
  {
   "cell_type": "code",
   "execution_count": 50,
   "metadata": {},
   "outputs": [],
   "source": [
    "# TF IDF vectorizer - лучше себя показал чем Count Vectorizer\n",
    "vectorizer = TfidfVectorizer(use_idf=True, max_features = 2000)\n",
    "\n",
    "x_train = vectorizer.fit_transform(x_train)\n",
    "x_test = vectorizer.transform(x_test)\n",
    "\n",
    "x_train = pd.DataFrame.sparse.from_spmatrix(x_train, columns = vectorizer.get_feature_names())\n",
    "x_test  = pd.DataFrame.sparse.from_spmatrix(x_test, columns = vectorizer.get_feature_names())"
   ]
  },
  {
   "cell_type": "markdown",
   "metadata": {},
   "source": [
    "##### Обучение Модели"
   ]
  },
  {
   "cell_type": "code",
   "execution_count": 54,
   "metadata": {},
   "outputs": [
    {
     "data": {
      "text/plain": [
       "MultinomialNB()"
      ]
     },
     "execution_count": 54,
     "metadata": {},
     "output_type": "execute_result"
    }
   ],
   "source": [
    "#fit train\n",
    "clf = MultinomialNB()\n",
    "clf.fit(x_train,y_train)"
   ]
  },
  {
   "cell_type": "markdown",
   "metadata": {},
   "source": [
    "##### Метрики"
   ]
  },
  {
   "cell_type": "code",
   "execution_count": 55,
   "metadata": {},
   "outputs": [
    {
     "data": {
      "text/plain": [
       "0.8579749999999999"
      ]
     },
     "metadata": {},
     "output_type": "display_data"
    },
    {
     "data": {
      "text/plain": [
       "0.8501"
      ]
     },
     "metadata": {},
     "output_type": "display_data"
    }
   ],
   "source": [
    "#accuracy\n",
    "cv = StratifiedKFold(n_splits=5, shuffle=True, random_state = 42)\n",
    "\n",
    "scores = cross_validate(clf, x_train, y_train, scoring = 'accuracy', cv=cv, return_train_score=True)\n",
    "\n",
    "score_train = np.mean(scores['train_score'])\n",
    "score_test  = np.mean(scores['test_score'])\n",
    "\n",
    "display(score_train)\n",
    "display(score_test)"
   ]
  },
  {
   "cell_type": "code",
   "execution_count": 9,
   "metadata": {
    "scrolled": true
   },
   "outputs": [
    {
     "data": {
      "text/plain": [
       "0.8596716792015264"
      ]
     },
     "metadata": {},
     "output_type": "display_data"
    },
    {
     "data": {
      "text/plain": [
       "0.8520866313886521"
      ]
     },
     "metadata": {},
     "output_type": "display_data"
    }
   ],
   "source": [
    "#f1-score\n",
    "cv = StratifiedKFold(n_splits=5, shuffle=True, random_state = 42)\n",
    "\n",
    "scores = cross_validate(clf, x_train, y_train, scoring = 'f1', cv=cv, return_train_score=True)\n",
    "\n",
    "score_train = np.mean(scores['train_score'])\n",
    "score_test  = np.mean(scores['test_score'])\n",
    "\n",
    "display(score_train)\n",
    "display(score_test)"
   ]
  }
 ],
 "metadata": {
  "interpreter": {
   "hash": "e7cb1b9ae4d417fedf7f40a8eec98f7cfbd359e096bd857395a915f4609834ce"
  },
  "kernelspec": {
   "display_name": "Python 3 (ipykernel)",
   "language": "python",
   "name": "python3"
  },
  "language_info": {
   "codemirror_mode": {
    "name": "ipython",
    "version": 3
   },
   "file_extension": ".py",
   "mimetype": "text/x-python",
   "name": "python",
   "nbconvert_exporter": "python",
   "pygments_lexer": "ipython3",
   "version": "3.9.12"
  }
 },
 "nbformat": 4,
 "nbformat_minor": 2
}
